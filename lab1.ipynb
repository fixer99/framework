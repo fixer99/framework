{
 "cells": [
  {
   "cell_type": "markdown",
   "metadata": {},
   "source": [
    "# First part of work :"
   ]
  },
  {
   "cell_type": "markdown",
   "metadata": {},
   "source": [
    " * ###  <span style=\"color:blue\"><u> Burkina Faso : </u> </span>"
   ]
  },
  {
   "cell_type": "markdown",
   "metadata": {},
   "source": [
    "* **Global information about the contry :** "
   ]
  },
  {
   "cell_type": "markdown",
   "metadata": {},
   "source": [
    "|BURKINA FASO\t|Africa|\n",
    "|------|------|\n",
    "|Area  |274.200 km² |\n",
    "|Population |13.492.000 |\n",
    "|Capital  |Ouagadougou (1.120.000)  |\n",
    "|Language  |French  |\n",
    "|Religion  |Muslim, Animistic, Christian  |\n",
    "|Government  |Republic  |"
   ]
  },
  {
   "cell_type": "markdown",
   "metadata": {},
   "source": [
    "For more details, see [wikipedia](https://en.wikipedia.org/wiki/Burkina_Faso)."
   ]
  },
  {
   "cell_type": "markdown",
   "metadata": {},
   "source": [
    " * ###  <span style=\"color:red\"><u>Coat of arms of Burkina Faso : </u> </span>"
   ]
  },
  {
   "cell_type": "markdown",
   "metadata": {},
   "source": [
    "![It doesn't matter what you write here](http://idata.over-blog.com/3/93/96/04/Blasons-pays/coa-of-burkina-faso-256.png)"
   ]
  },
  {
   "cell_type": "markdown",
   "metadata": {},
   "source": [
    " * ### <span style=\"color:green\"><u>Famous people from Burkina Faso : </u> </span>"
   ]
  },
  {
   "cell_type": "markdown",
   "metadata": {},
   "source": [
    "* **Thomas Sankara (Politician)**\n",
    "* **Jonathan Pitroipa (Soccer Midfielder)**\n",
    "* **Jacky Ido (Actor)**"
   ]
  },
  {
   "cell_type": "markdown",
   "metadata": {},
   "source": [
    "For more details, see [Link](http://countrylicious.com/burkina-faso/famous-people)."
   ]
  },
  {
   "cell_type": "markdown",
   "metadata": {},
   "source": [
    "## Map :\n"
   ]
  },
  {
   "cell_type": "markdown",
   "metadata": {},
   "source": [
    "![It doesn't matter what you write here](http://www.infolaso.com/english/images/stories/banderas/burkina-faso-map.jpg)"
   ]
  },
  {
   "cell_type": "markdown",
   "metadata": {},
   "source": [
    "## National flag of burkina faso :"
   ]
  },
  {
   "cell_type": "code",
   "execution_count": 2,
   "metadata": {
    "scrolled": true
   },
   "outputs": [
    {
     "data": {
      "text/html": [
       "<?xml version=\"1.0\" encoding=\"UTF-8\" standalone=\"yes\"?>\n",
       "<svg xmlns=\"http://www.w3.org/2000/svg\" xmlns:xlink=\"http://www.w3.org/1999/xlink\" version=\"1.0\" x=\"0\" y=\"0\" width=\"360\" height=\"240\">\n",
       "<rect width=\"500\" height=\"500\" x=\"0\" y=\"0\" fill=\"#ce1126\" />\n",
       "  <rect width=\"360\" height=\"120\" x=\"0\" y=\"120\" fill=\"#108042\" />\n",
       "<g transform=\"translate(180.000000,120.000000)\">\n",
       "<g transform=\"scale(0.851064)\">\n",
       "<g transform=\"translate(-125.000000,-123.000000)\">\n",
       "\n",
       "<polygon style=\"fill:#fcd116;stroke:#000;stroke-width:2.5\" points=\"125,5 155,90 245,90 175,145 200,230 125,180 50,230 75,145 5,90 95,90\"/>\n",
       "</g>\n",
       "</g>\n",
       "</g>\n",
       "</svg>\n"
      ],
      "text/plain": [
       "<IPython.core.display.HTML object>"
      ]
     },
     "metadata": {},
     "output_type": "display_data"
    }
   ],
   "source": [
    "%%HTML\n",
    "<?xml version=\"1.0\" encoding=\"UTF-8\" standalone=\"yes\"?>\n",
    "<svg xmlns=\"http://www.w3.org/2000/svg\" xmlns:xlink=\"http://www.w3.org/1999/xlink\" version=\"1.0\" x=\"0\" y=\"0\" width=\"360\" height=\"240\">\n",
    "<rect width=\"500\" height=\"500\" x=\"0\" y=\"0\" fill=\"#ce1126\" />\n",
    "  <rect width=\"360\" height=\"120\" x=\"0\" y=\"120\" fill=\"#108042\" />\n",
    "<g transform=\"translate(180.000000,120.000000)\">\n",
    "<g transform=\"scale(0.851064)\">\n",
    "<g transform=\"translate(-125.000000,-123.000000)\">\n",
    "\n",
    "<polygon style=\"fill:#fcd116;stroke:#000;stroke-width:2.5\" points=\"125,5 155,90 245,90 175,145 200,230 125,180 50,230 75,145 5,90 95,90\"/>\n",
    "</g>\n",
    "</g>\n",
    "</g>\n",
    "</svg>\n"
   ]
  },
  {
   "cell_type": "markdown",
   "metadata": {},
   "source": [
    "# Second part of work :\n"
   ]
  },
  {
   "cell_type": "code",
   "execution_count": 5,
   "metadata": {},
   "outputs": [
    {
     "name": "stdout",
     "output_type": "stream",
     "text": [
      "Enter the numbers 16 36\n",
      "The gcd of is  : 4\n"
     ]
    }
   ],
   "source": [
    "def hcfnaive(a, b):\n",
    "    if (b == 0):\n",
    "        return a\n",
    "    else:\n",
    "        return hcfnaive(b, a % b)\n",
    "\n",
    "a,b = input(\"Enter the numbers \").split()\n",
    "a = int(a)\n",
    "b= int(b)\n",
    "\n",
    "\n",
    "print(\"The gcd of is  : \", end=\"\")\n",
    "print(hcfnaive(a, b))"
   ]
  },
  {
   "cell_type": "code",
   "execution_count": 4,
   "metadata": {},
   "outputs": [
    {
     "data": {
      "text/plain": [
       "6"
      ]
     },
     "execution_count": 4,
     "metadata": {},
     "output_type": "execute_result"
    }
   ],
   "source": [
    "hcfnaive(a, b)"
   ]
  },
  {
   "cell_type": "code",
   "execution_count": 6,
   "metadata": {
    "scrolled": true
   },
   "outputs": [
    {
     "data": {
      "text/plain": [
       "4"
      ]
     },
     "execution_count": 6,
     "metadata": {},
     "output_type": "execute_result"
    }
   ],
   "source": [
    "hcfnaive(a, b)"
   ]
  }
 ],
 "metadata": {
  "kernelspec": {
   "display_name": "Python 3",
   "language": "python",
   "name": "python3"
  },
  "language_info": {
   "codemirror_mode": {
    "name": "ipython",
    "version": 3
   },
   "file_extension": ".py",
   "mimetype": "text/x-python",
   "name": "python",
   "nbconvert_exporter": "python",
   "pygments_lexer": "ipython3",
   "version": "3.8.5"
  }
 },
 "nbformat": 4,
 "nbformat_minor": 4
}
